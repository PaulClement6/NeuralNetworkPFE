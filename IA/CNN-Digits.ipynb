{
 "cells": [
  {
   "cell_type": "markdown",
   "metadata": {},
   "source": [
    "## Réseau Neurones Convolutif - Chiffres"
   ]
  },
  {
   "cell_type": "markdown",
   "metadata": {},
   "source": [
    "#### 1. Imporation Library"
   ]
  },
  {
   "cell_type": "code",
   "execution_count": 18,
   "metadata": {},
   "outputs": [],
   "source": [
    "import numpy as np\n",
    "\n",
    "from keras.models import Sequential, Model, save_model\n",
    "from keras.layers import Dense, Activation, Input\n",
    "from keras.layers import Dropout\n",
    "from keras.layers import Flatten\n",
    "from keras.layers import Conv2D\n",
    "from keras.layers import MaxPooling2D\n",
    "from keras.utils import to_categorical\n",
    "\n",
    "import matplotlib.pyplot as plt\n",
    "from matplotlib import cm\n",
    "\n",
    "from sklearn import metrics"
   ]
  },
  {
   "cell_type": "markdown",
   "metadata": {},
   "source": [
    "#### 2. Load dataset MNIST (base de données d'image de chiffres)"
   ]
  },
  {
   "cell_type": "code",
   "execution_count": 19,
   "metadata": {},
   "outputs": [],
   "source": [
    "# Pour importer le datasets mnist de Keras\n",
    "from keras.datasets.mnist import load_data\n",
    "\n",
    "# Chargement des données MNIST\n",
    "(X_train, y_train), (X_test, y_test) = load_data()\n",
    "\n",
    "# Changer la forme de X_train et X_test\n",
    "X_train = X_train.reshape((-1, 28, 28, 1))\n",
    "X_test = X_test.reshape((-1, 28, 28, 1))"
   ]
  },
  {
   "cell_type": "markdown",
   "metadata": {},
   "source": [
    "#### 3. Normalisation des vecteurs train et test"
   ]
  },
  {
   "cell_type": "code",
   "execution_count": 20,
   "metadata": {},
   "outputs": [],
   "source": [
    "X_train = X_train / 255\n",
    "X_test = X_test / 255\n",
    "\n",
    "y_train = to_categorical(y_train)\n",
    "y_test = to_categorical(y_test)"
   ]
  },
  {
   "cell_type": "markdown",
   "metadata": {},
   "source": [
    "#### 4. Architecture du modèle"
   ]
  },
  {
   "cell_type": "code",
   "execution_count": 21,
   "metadata": {},
   "outputs": [
    {
     "name": "stdout",
     "output_type": "stream",
     "text": [
      "Epoch 1/16\n",
      "112/240 [=============>................] - ETA: 2s - loss: 0.7521 - accuracy: 0.7655"
     ]
    }
   ],
   "source": [
    "lenet = Sequential()\n",
    "\n",
    "# Convolution de l'image (accentuer les traits qui nous seront utiles pour prédire les chiffres)\n",
    "lenet.add(Conv2D(filters = 30,                     # Nombre de filtres\n",
    "                kernel_size = (5, 5),            # Dimensions du noyau\n",
    "                padding = 'valid',               # Mode de Dépassement\n",
    "                input_shape = (28, 28, 1),       # Dimensions de l'image en entrée\n",
    "                activation = 'relu'))             # Fonction d'activation\n",
    "\n",
    "lenet.add(MaxPooling2D(pool_size = (2, 2))) # Réduction de l'image\n",
    "\n",
    "# 2e convolution\n",
    "lenet.add(Conv2D(filters = 16,\n",
    "                kernel_size = (3, 3),\n",
    "                padding = 'valid',\n",
    "                activation = 'relu'))\n",
    "\n",
    "lenet.add(MaxPooling2D(pool_size = (2, 2))) # 2e réduction de l'image\n",
    "\n",
    "lenet.add(Flatten()) # Applatissement des matrices en vecteurs avant l'entrée dans les couches profondes\n",
    "\n",
    "lenet.add(Dropout(rate = 0.2)) # Suppressions aléatoires de certains inputs pour éviter le sur-apprentissage\n",
    "\n",
    "lenet.add(Dense(units = 128,\n",
    "                activation = 'relu')) # Couche profonde cachée\n",
    "\n",
    "lenet.add(Dense(units = 10,\n",
    "                activation = 'softmax')) # Couche profonde de sortie\n",
    "\n",
    "# Compilation\n",
    "lenet.compile(loss='categorical_crossentropy',  # fonction de perte\n",
    "              optimizer='adam',                 # algorithme de descente de gradient\n",
    "              metrics=['accuracy'])             # métrique d'évaluation\n",
    "\n",
    "# Entraînement\n",
    "training_history_lenet = lenet.fit(X_train, y_train,          # données\n",
    "                                   validation_split = 0.2,    # split de test, pour évaluer surveiller l'efficacité de notre modèle pendant son entrainement\n",
    "                                   epochs = 16,               # nombre d'epochs (nombre de fois que l'on entraine notre modèle)\n",
    "                                   batch_size = 200)          # taille des batchs\n"
   ]
  },
  {
   "cell_type": "markdown",
   "metadata": {},
   "source": [
    "#### 5. Performance du modèle durant l'entrainement"
   ]
  },
  {
   "cell_type": "code",
   "execution_count": null,
   "metadata": {},
   "outputs": [
    {
     "data": {
      "image/png": "[encoded data removed]",
      "text/plain": [
       "<Figure size 640x480 with 1 Axes>"
      ]
     },
     "metadata": {},
     "output_type": "display_data"
    }
   ],
   "source": [
    "# Labels des axes\n",
    "plt.xlabel('Epochs')\n",
    "plt.ylabel('Accuracy')\n",
    "\n",
    "# Courbe de la précision sur l'échantillon d'entrainement\n",
    "plt.plot(np.arange(1 , 17, 1),\n",
    "         training_history_lenet.history['accuracy'],\n",
    "         label = 'Training Accuracy',\n",
    "         color = 'blue')\n",
    "\n",
    "# Courbe de la précision sur l'échantillon de test\n",
    "plt.plot(np.arange(1 , 17, 1),\n",
    "         training_history_lenet.history['val_accuracy'],\n",
    "         label = 'Validation Accuracy',\n",
    "         color = 'red')\n",
    "\n",
    "# Affichage de la légende\n",
    "plt.legend()\n",
    "\n",
    "# Affichage de la figure\n",
    "plt.show()"
   ]
  },
  {
   "cell_type": "markdown",
   "metadata": {},
   "source": [
    "#### 6. Réussite du modèle sur des nouvelles images (ici, accuracy = 99% de réussite)"
   ]
  },
  {
   "cell_type": "code",
   "execution_count": null,
   "metadata": {},
   "outputs": [
    {
     "name": "stdout",
     "output_type": "stream",
     "text": [
      "313/313 [==============================] - 1s 2ms/step\n",
      "              precision    recall  f1-score   support\n",
      "\n",
      "           0       0.99      1.00      1.00       980\n",
      "           1       1.00      1.00      1.00      1135\n",
      "           2       0.99      1.00      0.99      1032\n",
      "           3       0.98      1.00      0.99      1010\n",
      "           4       0.99      1.00      0.99       982\n",
      "           5       0.98      0.99      0.99       892\n",
      "           6       1.00      0.99      0.99       958\n",
      "           7       0.99      0.99      0.99      1028\n",
      "           8       0.99      0.99      0.99       974\n",
      "           9       0.99      0.98      0.99      1009\n",
      "\n",
      "    accuracy                           0.99     10000\n",
      "   macro avg       0.99      0.99      0.99     10000\n",
      "weighted avg       0.99      0.99      0.99     10000\n",
      "\n"
     ]
    }
   ],
   "source": [
    "test_pred_lenet = lenet.predict(X_test)\n",
    "test_pred_lenet_class = test_pred_lenet.argmax(axis = 1)\n",
    "y_test_class = y_test.argmax(axis = 1)\n",
    "\n",
    "print(metrics.classification_report(y_test_class, test_pred_lenet_class))"
   ]
  },
  {
   "cell_type": "markdown",
   "metadata": {},
   "source": [
    "#### 7. Sauvegarde du modèle"
   ]
  },
  {
   "cell_type": "code",
   "execution_count": null,
   "metadata": {},
   "outputs": [
    {
     "name": "stderr",
     "output_type": "stream",
     "text": [
      "C:\\Users\\yoann\\AppData\\Local\\Packages\\PythonSoftwareFoundation.Python.3.11_qbz5n2kfra8p0\\LocalCache\\local-packages\\Python311\\site-packages\\keras\\src\\engine\\training.py:3079: UserWarning: You are saving your model as an HDF5 file via `model.save()`. This file format is considered legacy. We recommend using instead the native Keras format, e.g. `model.save('my_model.keras')`.\n",
      "  saving_api.save_model(\n"
     ]
    }
   ],
   "source": [
    "lenet.save(\"Trained_models/CNN_Digits.h5\")"
   ]
  },
  {
   "cell_type": "markdown",
   "metadata": {},
   "source": [
    "#### 8. Exemple de prédictions réussites du modèle"
   ]
  },
  {
   "cell_type": "code",
   "execution_count": null,
   "metadata": {},
   "outputs": [
    {
     "ename": "ValueError",
     "evalue": "'a' cannot be empty unless no samples are taken",
     "output_type": "error",
     "traceback": [
      "\u001b[1;31m---------------------------------------------------------------------------\u001b[0m",
      "\u001b[1;31mValueError\u001b[0m                                Traceback (most recent call last)",
      "\u001b[1;32mc:\\Users\\yoann\\OneDrive\\Ecole\\Big Data & Analytics\\PFE\\CNN-Digits.ipynb Cell 17\u001b[0m line \u001b[0;36m7\n\u001b[0;32m      <a href='vscode-notebook-cell:/c%3A/Users/yoann/OneDrive/Ecole/Big%20Data%20%26%20Analytics/PFE/CNN-Digits.ipynb#X22sZmlsZQ%3D%3D?line=3'>4</a>\u001b[0m                 right_indexes \u001b[39m+\u001b[39m\u001b[39m=\u001b[39m [i]\n\u001b[0;32m      <a href='vscode-notebook-cell:/c%3A/Users/yoann/OneDrive/Ecole/Big%20Data%20%26%20Analytics/PFE/CNN-Digits.ipynb#X22sZmlsZQ%3D%3D?line=5'>6</a>\u001b[0m j \u001b[39m=\u001b[39m \u001b[39m1\u001b[39m\n\u001b[1;32m----> <a href='vscode-notebook-cell:/c%3A/Users/yoann/OneDrive/Ecole/Big%20Data%20%26%20Analytics/PFE/CNN-Digits.ipynb#X22sZmlsZQ%3D%3D?line=6'>7</a>\u001b[0m \u001b[39mfor\u001b[39;00m i \u001b[39min\u001b[39;00m np\u001b[39m.\u001b[39;49mrandom\u001b[39m.\u001b[39;49mchoice(right_indexes, size \u001b[39m=\u001b[39;49m \u001b[39m3\u001b[39;49m):\n\u001b[0;32m      <a href='vscode-notebook-cell:/c%3A/Users/yoann/OneDrive/Ecole/Big%20Data%20%26%20Analytics/PFE/CNN-Digits.ipynb#X22sZmlsZQ%3D%3D?line=7'>8</a>\u001b[0m     img \u001b[39m=\u001b[39m X_test[i]\n\u001b[0;32m      <a href='vscode-notebook-cell:/c%3A/Users/yoann/OneDrive/Ecole/Big%20Data%20%26%20Analytics/PFE/CNN-Digits.ipynb#X22sZmlsZQ%3D%3D?line=8'>9</a>\u001b[0m     img \u001b[39m=\u001b[39m img\u001b[39m.\u001b[39mreshape(\u001b[39m28\u001b[39m, \u001b[39m28\u001b[39m)\n",
      "File \u001b[1;32mnumpy\\\\random\\\\mtrand.pyx:950\u001b[0m, in \u001b[0;36mnumpy.random.mtrand.RandomState.choice\u001b[1;34m()\u001b[0m\n",
      "\u001b[1;31mValueError\u001b[0m: 'a' cannot be empty unless no samples are taken"
     ]
    }
   ],
   "source": [
    "right_indexes = []\n",
    "for i in range(len(test_pred_lenet)):\n",
    "    if (test_pred_lenet_class[i] == y_test_class[i]):\n",
    "                right_indexes += [i]\n",
    "\n",
    "j = 1\n",
    "for i in np.random.choice(right_indexes, size = 3):\n",
    "    img = X_test[i]\n",
    "    img = img.reshape(28, 28)\n",
    "\n",
    "    plt.subplot(1, 3, j)\n",
    "    j = j + 1\n",
    "    plt.axis('off')\n",
    "    plt.imshow(img,cmap = cm.binary, interpolation='None')\n",
    "    plt.title('True Label: ' + str(y_test_class[i]) \\\n",
    "              + '\\n' + 'Prediction: '+ str(test_pred_lenet_class[i]) \\\n",
    "              + '\\n' + 'Confidence: '+ str(round(test_pred_lenet[i][test_pred_lenet_class[i]], 2)))"
   ]
  },
  {
   "cell_type": "markdown",
   "metadata": {},
   "source": [
    "#### 9. Exemple d'erreur de prédictions du modèle"
   ]
  },
  {
   "cell_type": "code",
   "execution_count": null,
   "metadata": {},
   "outputs": [
    {
     "data": {
      "image/png": "[encoded data removed]",
      "text/plain": [
       "<Figure size 640x480 with 3 Axes>"
      ]
     },
     "metadata": {},
     "output_type": "display_data"
    }
   ],
   "source": [
    "error_indexes = []\n",
    "for i in range(len(test_pred_lenet)):\n",
    "    if (test_pred_lenet_class[i] != y_test_class[i]):\n",
    "                error_indexes += [i]\n",
    "\n",
    "j = 1\n",
    "for i in np.random.choice(error_indexes, size = 3):\n",
    "    img = X_test[i]\n",
    "    img = img.reshape(28, 28)\n",
    "\n",
    "    plt.subplot(1, 3, j)\n",
    "    j = j + 1\n",
    "    plt.axis('off')\n",
    "    plt.imshow(img,cmap = cm.binary, interpolation='None')\n",
    "    plt.title('True Label: ' + str(y_test_class[i]) \\\n",
    "              + '\\n' + 'Prediction: '+ str(test_pred_lenet_class[i]) \\\n",
    "              + '\\n' + 'Confidence: '+ str(round(test_pred_lenet[i][test_pred_lenet_class[i]], 2)))"
   ]
  },
  {
   "cell_type": "markdown",
   "metadata": {},
   "source": [
    "## Bonus : Test du modèle avec nos propres images"
   ]
  },
  {
   "cell_type": "markdown",
   "metadata": {},
   "source": [
    "### 1. Prédiction"
   ]
  },
  {
   "cell_type": "code",
   "execution_count": null,
   "metadata": {},
   "outputs": [
    {
     "name": "stdout",
     "output_type": "stream",
     "text": [
      "1/1 [==============================] - 0s 12ms/step\n"
     ]
    },
    {
     "data": {
      "image/png": "[encoded data removed]",
      "text/plain": [
       "<Figure size 640x480 with 6 Axes>"
      ]
     },
     "metadata": {},
     "output_type": "display_data"
    }
   ],
   "source": [
    "import os\n",
    "from keras.preprocessing import image\n",
    "\n",
    "dossier_images = 'Digits_exemple'\n",
    "images = []\n",
    "images_couleur = []\n",
    "\n",
    "for fichier in os.listdir(dossier_images):\n",
    "    if fichier.endswith(\".png\"):\n",
    "        chemin_image = os.path.join(dossier_images, fichier)\n",
    "\n",
    "        images_couleur.append(image.load_img(chemin_image))\n",
    "\n",
    "        img = image.load_img(chemin_image, target_size=(28, 28), color_mode='grayscale')\n",
    "        img_array = image.img_to_array(img)\n",
    "        img_array /= 255.0\n",
    "\n",
    "        images.append(img_array)\n",
    "\n",
    "images_array = np.array(images)\n",
    "\n",
    "test_pred_lenet = lenet.predict(images_array)\n",
    "test_pred_lenet_class = test_pred_lenet.argmax(axis = 1)\n",
    "\n",
    "j = 1\n",
    "for i in range(len(images_array)):\n",
    "    img = images_couleur[i]\n",
    "\n",
    "    plt.subplot(2, 3, j)\n",
    "    j = j + 1\n",
    "    plt.axis('off')\n",
    "    plt.imshow(img, interpolation='None')\n",
    "    plt.title( 'Prediction: ' + str(test_pred_lenet_class[i]) \\\n",
    "              + '\\n' + 'Confidence: ' + str(round(test_pred_lenet[i][test_pred_lenet_class[i]], 2)))\n",
    "\n",
    "for i in range(len(images_array)):\n",
    "    img = images[i]\n",
    "\n",
    "    plt.subplot(2, 3, j)\n",
    "    j = j + 1\n",
    "    plt.axis('off')\n",
    "    plt.imshow(img, interpolation='None')\n",
    "\n",
    "plt.tight_layout()\n",
    "plt.show()"
   ]
  },
  {
   "cell_type": "markdown",
   "metadata": {},
   "source": [
    "##### 1e ligne = images réelles\n",
    "##### 2e ligne = images que le modèle interprète (Pixel = 0.299 * R + 0.587 * G + 0.114 * B)"
   ]
  },
  {
   "cell_type": "markdown",
   "metadata": {},
   "source": [
    "### 2. Prédictions avec colorimétrie inversée"
   ]
  },
  {
   "cell_type": "code",
   "execution_count": null,
   "metadata": {},
   "outputs": [
    {
     "name": "stdout",
     "output_type": "stream",
     "text": [
      "1/1 [==============================] - 0s 11ms/step\n"
     ]
    },
    {
     "data": {
      "image/png": "[encoded data removed]",
      "text/plain": [
       "<Figure size 640x480 with 6 Axes>"
      ]
     },
     "metadata": {},
     "output_type": "display_data"
    }
   ],
   "source": [
    "\n",
    "images_array = 1 - np.array(images)\n",
    "\n",
    "test_pred_lenet = lenet.predict(images_array)\n",
    "test_pred_lenet_class = test_pred_lenet.argmax(axis = 1)\n",
    "\n",
    "j = 1\n",
    "for i in range(len(images_array)):\n",
    "    img = images_couleur[i]\n",
    "\n",
    "    plt.subplot(2, 3, j)\n",
    "    j = j + 1\n",
    "    plt.axis('off')\n",
    "    plt.imshow(img, interpolation='None')\n",
    "    plt.title( 'Prediction: ' + str(test_pred_lenet_class[i]) \\\n",
    "              + '\\n' + 'Confidence: ' + str(round(test_pred_lenet[i][test_pred_lenet_class[i]], 2)))\n",
    "\n",
    "for i in range(len(images_array)):\n",
    "    img = images_array[i]\n",
    "\n",
    "    plt.subplot(2, 3, j)\n",
    "    j = j + 1\n",
    "    plt.axis('off')\n",
    "    plt.imshow(img, interpolation='None')\n",
    "\n",
    "plt.tight_layout()\n",
    "plt.show()"
   ]
  },
  {
   "cell_type": "markdown",
   "metadata": {},
   "source": [
    "#### A voir si notre modèle est plus efficace en intèprétant des images avec colorimétrie inversée"
   ]
  }
 ],
 "metadata": {
  "kernelspec": {
   "display_name": "Python 3",
   "language": "python",
   "name": "python3"
  },
  "language_info": {
   "codemirror_mode": {
    "name": "ipython",
    "version": 3
   },
   "file_extension": ".py",
   "mimetype": "text/x-python",
   "name": "python",
   "nbconvert_exporter": "python",
   "pygments_lexer": "ipython3",
   "version": "3.11.6"
  }
 },
 "nbformat": 4,
 "nbformat_minor": 2
}
