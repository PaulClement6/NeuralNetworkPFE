{
 "cells": [
  {
   "cell_type": "markdown",
   "metadata": {},
   "source": [
    "## Réseau Neurones Convolutif - Lettres"
   ]
  },
  {
   "cell_type": "markdown",
   "metadata": {},
   "source": [
    "#### 1. Imporation Library"
   ]
  },
  {
   "cell_type": "code",
   "execution_count": null,
   "metadata": {},
   "outputs": [
    {
     "ename": "",
     "evalue": "",
     "output_type": "error",
     "traceback": [
      "\u001b[1;31mLes cellules en cours d’exécution avec /usr/local/bin/python3 nécessitent le package ipykernel.\n",
      "\u001b[1;31mRun the following command to install 'ipykernel' into the Python environment. \n",
      "\u001b[1;31mCommand: '/usr/local/bin/python3 -m pip install ipykernel -U --user --force-reinstall'"
     ]
    }
   ],
   "source": [
    "import numpy as np\n",
    "\n",
    "from keras.models import Sequential, Model\n",
    "from keras.layers import Dense, Activation, Input\n",
    "from keras.layers import Dropout\n",
    "from keras.layers import Flatten\n",
    "from keras.layers import Conv2D\n",
    "from keras.layers import MaxPooling2D\n",
    "from keras.utils import to_categorical\n",
    "from sklearn.model_selection import train_test_split\n",
    "from keras import layers\n",
    "from keras.preprocessing.image import ImageDataGenerator\n",
    "\n",
    "import matplotlib.pyplot as plt\n",
    "from matplotlib import cm\n",
    "\n",
    "import pandas as pd\n",
    "\n",
    "from sklearn import metrics\n",
    "\n",
    "import itertools"
   ]
  },
  {
   "cell_type": "markdown",
   "metadata": {},
   "source": [
    "#### 2. Load dataset EMNIST (fichiers CSV d'images de lettres)"
   ]
  },
  {
   "cell_type": "code",
   "execution_count": 2,
   "metadata": {},
   "outputs": [],
   "source": [
    "train_data_letters = pd.read_csv('emnist-letters-train.csv', header=None)\n",
    "test_data_letters = pd.read_csv('emnist-letters-test.csv', header=None)\n",
    "\n",
    "# Divisez les données en caractéristiques (pixels) et étiquettes\n",
    "X_train = train_data_letters.iloc[:, 1:].values\n",
    "y_train = train_data_letters.iloc[:, 0].values\n",
    "\n",
    "X_test = test_data_letters.iloc[:, 1:].values\n",
    "y_test = test_data_letters.iloc[:, 0].values\n",
    "\n",
    "# Redimensionnez les données\n",
    "X_train = X_train.reshape(-1, 28, 28, 1)\n",
    "X_test = X_test.reshape(-1, 28, 28, 1)"
   ]
  },
  {
   "cell_type": "markdown",
   "metadata": {},
   "source": [
    "#### 3. Normalisation des vecteurs train et test"
   ]
  },
  {
   "cell_type": "code",
   "execution_count": 3,
   "metadata": {},
   "outputs": [],
   "source": [
    "# Normalisez les valeurs des pixels\n",
    "X_train = X_train.astype('float32') / 255.0\n",
    "X_test = X_test.astype('float32') / 255.0\n",
    "\n",
    "num_classes = 27  # 27 lettres de l'alphabet plus une classe pour les caractères inconnus\n",
    "y_train = to_categorical(y_train, num_classes)\n",
    "y_test = to_categorical(y_test, num_classes)"
   ]
  },
  {
   "cell_type": "markdown",
   "metadata": {},
   "source": [
    "#### 4. Génération d'images"
   ]
  },
  {
   "cell_type": "code",
   "execution_count": 4,
   "metadata": {},
   "outputs": [],
   "source": [
    "datagen = ImageDataGenerator(\n",
    "    rotation_range=10,\n",
    "    width_shift_range=0.1,\n",
    "    height_shift_range=0.1,\n",
    "    zoom_range=0.1,\n",
    "    horizontal_flip=True\n",
    ")\n",
    "\n",
    "datagen.fit(X_train)"
   ]
  },
  {
   "cell_type": "markdown",
   "metadata": {},
   "source": [
    "#### 5. Callbacks"
   ]
  },
  {
   "cell_type": "code",
   "execution_count": 5,
   "metadata": {},
   "outputs": [],
   "source": [
    "from keras.callbacks import Callback\n",
    "from timeit import default_timer as timer\n",
    "\n",
    "class TimingCallback(Callback):\n",
    "    def __init__(self, logs={}):\n",
    "        self.logs=[]\n",
    "    def on_epoch_begin(self, epoch, logs={}):\n",
    "        self.starttime = timer()\n",
    "    def on_epoch_end(self, epoch, logs={}):\n",
    "        self.logs.append(timer()-self.starttime)"
   ]
  },
  {
   "cell_type": "code",
   "execution_count": 6,
   "metadata": {},
   "outputs": [],
   "source": [
    "from keras.callbacks import ReduceLROnPlateau, EarlyStopping\n",
    "\n",
    "early_stopping = EarlyStopping(\n",
    "                                patience=5, # Attendre 5 epochs avant application\n",
    "                                min_delta = 0.01, # si au bout de 5 epochs la fonction de perte ne varie pas de 1%,\n",
    "    # que ce soit à la hausse ou à la baisse, on arrête\n",
    "                                verbose=1, # Afficher à quel epoch on s'arrête\n",
    "                                mode = 'min',\n",
    "                                monitor='val_loss')\n",
    "\n",
    "reduce_learning_rate = ReduceLROnPlateau(\n",
    "                                    monitor=\"val_loss\",\n",
    "                                    patience=3, #si val_loss stagne sur 3 epochs consécutives selon la valeur min_delta\n",
    "                                    min_delta= 0.01,\n",
    "                                    factor=0.1,  # On réduit le learning rate d'un facteur 0.1\n",
    "                                    cooldown = 4, # On attend 4 epochs avant de réitérer\n",
    "                                    verbose=1)\n",
    "\n",
    "time_callback = TimingCallback()"
   ]
  },
  {
   "cell_type": "markdown",
   "metadata": {},
   "source": [
    "#### 6. Architecture du modèle"
   ]
  },
  {
   "cell_type": "code",
   "execution_count": 7,
   "metadata": {},
   "outputs": [
    {
     "name": "stdout",
     "output_type": "stream",
     "text": [
      "Epoch 1/30\n",
      "444/444 [==============================] - 15s 32ms/step - loss: 1.6313 - accuracy: 0.4967 - val_loss: 0.7751 - val_accuracy: 0.7504 - lr: 0.0010\n",
      "Epoch 2/30\n",
      "444/444 [==============================] - 14s 31ms/step - loss: 0.9576 - accuracy: 0.6950 - val_loss: 0.5668 - val_accuracy: 0.8130 - lr: 0.0010\n",
      "Epoch 3/30\n",
      "444/444 [==============================] - 13s 30ms/step - loss: 0.7793 - accuracy: 0.7492 - val_loss: 0.5404 - val_accuracy: 0.8234 - lr: 0.0010\n",
      "Epoch 4/30\n",
      "444/444 [==============================] - 13s 30ms/step - loss: 0.6830 - accuracy: 0.7790 - val_loss: 0.4486 - val_accuracy: 0.8522 - lr: 0.0010\n",
      "Epoch 5/30\n",
      "444/444 [==============================] - 13s 30ms/step - loss: 0.6249 - accuracy: 0.7980 - val_loss: 0.4525 - val_accuracy: 0.8493 - lr: 0.0010\n",
      "Epoch 6/30\n",
      "444/444 [==============================] - 13s 30ms/step - loss: 0.5814 - accuracy: 0.8103 - val_loss: 0.3934 - val_accuracy: 0.8702 - lr: 0.0010\n",
      "Epoch 7/30\n",
      "444/444 [==============================] - 13s 30ms/step - loss: 0.5485 - accuracy: 0.8198 - val_loss: 0.4062 - val_accuracy: 0.8616 - lr: 0.0010\n",
      "Epoch 8/30\n",
      "444/444 [==============================] - 13s 30ms/step - loss: 0.5268 - accuracy: 0.8255 - val_loss: 0.3838 - val_accuracy: 0.8722 - lr: 0.0010\n",
      "Epoch 9/30\n",
      "444/444 [==============================] - 13s 29ms/step - loss: 0.5056 - accuracy: 0.8345 - val_loss: 0.3776 - val_accuracy: 0.8726 - lr: 0.0010\n",
      "Epoch 10/30\n",
      "444/444 [==============================] - 13s 29ms/step - loss: 0.4897 - accuracy: 0.8385 - val_loss: 0.4055 - val_accuracy: 0.8671 - lr: 0.0010\n",
      "Epoch 11/30\n",
      "444/444 [==============================] - 13s 29ms/step - loss: 0.4759 - accuracy: 0.8419 - val_loss: 0.3488 - val_accuracy: 0.8831 - lr: 0.0010\n",
      "Epoch 12/30\n",
      "444/444 [==============================] - 13s 29ms/step - loss: 0.4643 - accuracy: 0.8452 - val_loss: 0.3515 - val_accuracy: 0.8805 - lr: 0.0010\n",
      "Epoch 13/30\n",
      "444/444 [==============================] - 13s 30ms/step - loss: 0.4532 - accuracy: 0.8501 - val_loss: 0.3233 - val_accuracy: 0.8895 - lr: 0.0010\n",
      "Epoch 14/30\n",
      "444/444 [==============================] - 13s 29ms/step - loss: 0.4464 - accuracy: 0.8509 - val_loss: 0.3445 - val_accuracy: 0.8839 - lr: 0.0010\n",
      "Epoch 15/30\n",
      "444/444 [==============================] - 13s 29ms/step - loss: 0.4364 - accuracy: 0.8535 - val_loss: 0.3424 - val_accuracy: 0.8862 - lr: 0.0010\n",
      "Epoch 16/30\n",
      "444/444 [==============================] - ETA: 0s - loss: 0.4301 - accuracy: 0.8573\n",
      "Epoch 16: ReduceLROnPlateau reducing learning rate to 0.00010000000474974513.\n",
      "444/444 [==============================] - 13s 29ms/step - loss: 0.4301 - accuracy: 0.8573 - val_loss: 0.3378 - val_accuracy: 0.8867 - lr: 0.0010\n",
      "Epoch 17/30\n",
      "444/444 [==============================] - 13s 29ms/step - loss: 0.4050 - accuracy: 0.8640 - val_loss: 0.3185 - val_accuracy: 0.8930 - lr: 1.0000e-04\n",
      "Epoch 18/30\n",
      "444/444 [==============================] - 13s 29ms/step - loss: 0.4021 - accuracy: 0.8667 - val_loss: 0.3171 - val_accuracy: 0.8936 - lr: 1.0000e-04\n",
      "Epoch 18: early stopping\n"
     ]
    }
   ],
   "source": [
    "model_letters = Sequential([\n",
    "    layers.Conv2D(32, kernel_size=(3, 3), padding='valid', activation='relu', input_shape=(28, 28, 1)),\n",
    "    layers.MaxPooling2D(pool_size=(2, 2)),\n",
    "    layers.Conv2D(64, kernel_size=(3, 3), padding='valid', activation='relu'),\n",
    "    layers.MaxPooling2D(pool_size=(2, 2)),\n",
    "    layers.Flatten(),\n",
    "    layers.Dropout(rate=0.5),  # Augmentation du taux de dropout\n",
    "    layers.Dense(128, activation='relu'),\n",
    "    layers.Dense(27, activation='softmax')\n",
    "])\n",
    "\n",
    "# Compilation du modèle\n",
    "model_letters.compile(optimizer='adam', loss='categorical_crossentropy', metrics=['accuracy'])\n",
    "\n",
    "# Entraînement du modèle avec augmentation des données\n",
    "history = model_letters.fit(datagen.flow(X_train, y_train, batch_size=200),\n",
    "                            steps_per_epoch=len(X_train) / 200,  # Nombre d'itérations par epoch\n",
    "                            epochs=30,  # Augmentation du nombre d'epochs\n",
    "                            validation_data=(X_test, y_test),\n",
    "                            callbacks = [\n",
    "                         reduce_learning_rate,\n",
    "                         early_stopping,\n",
    "                         time_callback],\n",
    "                        verbose=True)"
   ]
  },
  {
   "cell_type": "markdown",
   "metadata": {},
   "source": [
    "#### 7. Affichage de la performance du modèle"
   ]
  },
  {
   "cell_type": "code",
   "execution_count": 9,
   "metadata": {},
   "outputs": [
    {
     "data": {
      "image/png": "[encoded data removed]",
      "text/plain": [
       "<Figure size 640x480 with 1 Axes>"
      ]
     },
     "metadata": {},
     "output_type": "display_data"
    }
   ],
   "source": [
    "# Labels des axes\n",
    "plt.xlabel('Epochs')\n",
    "plt.ylabel('Accuracy')\n",
    "\n",
    "# Courbe de la précision sur l'échantillon d'entrainement\n",
    "plt.plot(np.arange(1 , 19, 1),\n",
    "         history.history['accuracy'],\n",
    "         label = 'Training Accuracy',\n",
    "         color = 'blue')\n",
    "\n",
    "# Courbe de la précision sur l'échantillon de test\n",
    "plt.plot(np.arange(1 , 19, 1),\n",
    "         history.history['val_accuracy'],\n",
    "         label = 'Validation Accuracy',\n",
    "         color = 'red')\n",
    "\n",
    "# Affichage de la légende\n",
    "plt.legend()\n",
    "\n",
    "# Affichage de la figure\n",
    "plt.show()"
   ]
  },
  {
   "cell_type": "markdown",
   "metadata": {},
   "source": [
    "#### 8. Réussite du modèle sur des nouvelles images (ici, accuracy = 90% de réussite)"
   ]
  },
  {
   "cell_type": "code",
   "execution_count": 12,
   "metadata": {},
   "outputs": [
    {
     "name": "stdout",
     "output_type": "stream",
     "text": [
      "463/463 [==============================] - 1s 2ms/step\n",
      "              precision    recall  f1-score   support\n",
      "\n",
      "           1       0.94      0.91      0.92       800\n",
      "           2       0.89      0.90      0.89       800\n",
      "           3       0.98      0.94      0.96       800\n",
      "           4       0.90      0.93      0.91       800\n",
      "           5       0.94      0.96      0.95       800\n",
      "           6       0.97      0.94      0.95       800\n",
      "           7       0.90      0.75      0.82       800\n",
      "           8       0.94      0.92      0.93       800\n",
      "           9       0.77      0.67      0.72       800\n",
      "          10       0.97      0.93      0.95       800\n",
      "          11       0.97      0.97      0.97       800\n",
      "          12       0.71      0.77      0.74       800\n",
      "          13       0.97      0.92      0.94       800\n",
      "          14       0.97      0.90      0.93       800\n",
      "          15       0.98      0.92      0.95       800\n",
      "          16       0.88      0.93      0.91       800\n",
      "          17       0.75      0.92      0.83       800\n",
      "          18       0.95      0.89      0.92       800\n",
      "          19       0.98      0.95      0.96       400\n",
      "          20       0.00      0.00      0.00         0\n",
      "          21       0.00      0.00      0.00         0\n",
      "          22       0.00      0.00      0.00         0\n",
      "          23       0.00      0.00      0.00         0\n",
      "          24       0.00      0.00      0.00         0\n",
      "          25       0.00      0.00      0.00         0\n",
      "          26       0.00      0.00      0.00         0\n",
      "\n",
      "    accuracy                           0.89     14800\n",
      "   macro avg       0.67      0.65      0.66     14800\n",
      "weighted avg       0.91      0.89      0.90     14800\n",
      "\n"
     ]
    },
    {
     "name": "stderr",
     "output_type": "stream",
     "text": [
      "C:\\Users\\yoann\\AppData\\Local\\Packages\\PythonSoftwareFoundation.Python.3.11_qbz5n2kfra8p0\\LocalCache\\local-packages\\Python311\\site-packages\\sklearn\\metrics\\_classification.py:1471: UndefinedMetricWarning: Recall and F-score are ill-defined and being set to 0.0 in labels with no true samples. Use `zero_division` parameter to control this behavior.\n",
      "  _warn_prf(average, modifier, msg_start, len(result))\n",
      "C:\\Users\\yoann\\AppData\\Local\\Packages\\PythonSoftwareFoundation.Python.3.11_qbz5n2kfra8p0\\LocalCache\\local-packages\\Python311\\site-packages\\sklearn\\metrics\\_classification.py:1471: UndefinedMetricWarning: Recall and F-score are ill-defined and being set to 0.0 in labels with no true samples. Use `zero_division` parameter to control this behavior.\n",
      "  _warn_prf(average, modifier, msg_start, len(result))\n",
      "C:\\Users\\yoann\\AppData\\Local\\Packages\\PythonSoftwareFoundation.Python.3.11_qbz5n2kfra8p0\\LocalCache\\local-packages\\Python311\\site-packages\\sklearn\\metrics\\_classification.py:1471: UndefinedMetricWarning: Recall and F-score are ill-defined and being set to 0.0 in labels with no true samples. Use `zero_division` parameter to control this behavior.\n",
      "  _warn_prf(average, modifier, msg_start, len(result))\n"
     ]
    }
   ],
   "source": [
    "test_pred = model_letters.predict(X_test)\n",
    "test_pred_class = test_pred.argmax(axis=1)\n",
    "y_test_class = y_test.argmax(axis=1)\n",
    "\n",
    "print(metrics.classification_report(y_test_class, test_pred_class))"
   ]
  },
  {
   "cell_type": "markdown",
   "metadata": {},
   "source": [
    "#### 9. Sauvegarde du modèle"
   ]
  },
  {
   "cell_type": "code",
   "execution_count": 10,
   "metadata": {},
   "outputs": [
    {
     "name": "stderr",
     "output_type": "stream",
     "text": [
      "C:\\Users\\yoann\\AppData\\Local\\Packages\\PythonSoftwareFoundation.Python.3.11_qbz5n2kfra8p0\\LocalCache\\local-packages\\Python311\\site-packages\\keras\\src\\engine\\training.py:3079: UserWarning: You are saving your model as an HDF5 file via `model.save()`. This file format is considered legacy. We recommend using instead the native Keras format, e.g. `model.save('my_model.keras')`.\n",
      "  saving_api.save_model(\n"
     ]
    }
   ],
   "source": [
    "model_letters.save(\"Trained_models/CNN_Letters.h5\")"
   ]
  },
  {
   "cell_type": "markdown",
   "metadata": {},
   "source": [
    "#### 10. Exemple de prédictions réussites du modèle"
   ]
  },
  {
   "cell_type": "code",
   "execution_count": 13,
   "metadata": {},
   "outputs": [
    {
     "data": {
      "image/png": "[encoded data removed]",
      "text/plain": [
       "<Figure size 640x480 with 3 Axes>"
      ]
     },
     "metadata": {},
     "output_type": "display_data"
    }
   ],
   "source": [
    "alphabet = \"ABCDEFGHIJKLMNOPQRSTUVWXYZ\"\n",
    "right_indexes = []\n",
    "for i in range(len(test_pred)):\n",
    "    if (test_pred_class[i] == y_test_class[i]):\n",
    "                right_indexes += [i]\n",
    "\n",
    "j = 1\n",
    "for i in np.random.choice(right_indexes, size = 3):\n",
    "    img = X_test[i]\n",
    "    img = img.reshape(28, 28)\n",
    "\n",
    "    plt.subplot(1, 3, j)\n",
    "    j = j + 1\n",
    "    plt.axis('off')\n",
    "    plt.imshow(img,cmap = cm.binary, interpolation='None')\n",
    "    plt.title('True Label: ' + alphabet[y_test_class[i]-1] \\\n",
    "              + '\\n' + 'Prediction: '+ alphabet[test_pred_class[i]-1] \\\n",
    "              + '\\n' + 'Confidence: '+ str(round(test_pred[i][test_pred_class[i]], 2)))"
   ]
  },
  {
   "cell_type": "markdown",
   "metadata": {},
   "source": [
    "#### 11. Exemple d'erreur de prédictions du modèle"
   ]
  },
  {
   "cell_type": "code",
   "execution_count": 14,
   "metadata": {},
   "outputs": [
    {
     "data": {
      "image/png": "[encoded data removed]",
      "text/plain": [
       "<Figure size 640x480 with 3 Axes>"
      ]
     },
     "metadata": {},
     "output_type": "display_data"
    }
   ],
   "source": [
    "error_indexes = []\n",
    "for i in range(len(test_pred)):\n",
    "    if (test_pred_class[i] != y_test_class[i]):\n",
    "                error_indexes += [i]\n",
    "\n",
    "j = 1\n",
    "for i in np.random.choice(error_indexes, size = 3):\n",
    "    img = X_test[i]\n",
    "    img = img.reshape(28, 28)\n",
    "\n",
    "    plt.subplot(1, 3, j)\n",
    "    j = j + 1\n",
    "    plt.axis('off')\n",
    "    plt.imshow(img,cmap = cm.binary, interpolation='None')\n",
    "    plt.title('True Label: ' + alphabet[y_test_class[i]-1] \\\n",
    "              + '\\n' + 'Prediction: '+ alphabet[test_pred_class[i]-1] \\\n",
    "              + '\\n' + 'Confidence: '+ str(round(test_pred[i][test_pred_class[i]], 2)))"
   ]
  },
  {
   "cell_type": "markdown",
   "metadata": {},
   "source": [
    "Autres tests"
   ]
  }
 ],
 "metadata": {
  "kernelspec": {
   "display_name": "Python 3",
   "language": "python",
   "name": "python3"
  },
  "language_info": {
   "codemirror_mode": {
    "name": "ipython",
    "version": 3
   },
   "file_extension": ".py",
   "mimetype": "text/x-python",
   "name": "python",
   "nbconvert_exporter": "python",
   "pygments_lexer": "ipython3",
   "version": "3.9.13"
  }
 },
 "nbformat": 4,
 "nbformat_minor": 2
}
